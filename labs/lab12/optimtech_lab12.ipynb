{
 "cells": [
  {
   "cell_type": "markdown",
   "metadata": {
    "id": "yYejvJknRjtE"
   },
   "source": [
    "# Lab. 12: Robust Optimization\n",
    "\n",
    "## Introduction\n",
    "\n",
    "#### <u>In this lab, we will see some applications of robust optimization, namely a modified version of the Knapsack 0/1 problem, and the portfolio optimization problem.</u>\n",
    "\n",
    "Your job in this lab is to implement the missing functions, and study how different functions lead to different outcomes from both the point of view of the objective value and the probability of violating the constraints of the problem.\n",
    "\n",
    "The examples are taken from https://xiongpengnus.github.io/rsome/ro_rsome, using the RSOME library for robust optimization."
   ]
  },
  {
   "cell_type": "code",
   "execution_count": 1,
   "metadata": {
    "cellView": "form",
    "id": "_n1A6kv4Rfwy"
   },
   "outputs": [
    {
     "name": "stdout",
     "output_type": "stream",
     "text": [
      "\n",
      "\u001b[1m[\u001b[0m\u001b[34;49mnotice\u001b[0m\u001b[1;39;49m]\u001b[0m\u001b[39;49m A new release of pip is available: \u001b[0m\u001b[31;49m23.1.2\u001b[0m\u001b[39;49m -> \u001b[0m\u001b[32;49m24.0\u001b[0m\n",
      "\u001b[1m[\u001b[0m\u001b[34;49mnotice\u001b[0m\u001b[1;39;49m]\u001b[0m\u001b[39;49m To update, run: \u001b[0m\u001b[32;49mpip install --upgrade pip\u001b[0m\n",
      "\n",
      "\u001b[1m[\u001b[0m\u001b[34;49mnotice\u001b[0m\u001b[1;39;49m]\u001b[0m\u001b[39;49m A new release of pip is available: \u001b[0m\u001b[31;49m23.1.2\u001b[0m\u001b[39;49m -> \u001b[0m\u001b[32;49m24.0\u001b[0m\n",
      "\u001b[1m[\u001b[0m\u001b[34;49mnotice\u001b[0m\u001b[1;39;49m]\u001b[0m\u001b[39;49m To update, run: \u001b[0m\u001b[32;49mpip install --upgrade pip\u001b[0m\n"
     ]
    }
   ],
   "source": [
    "# @title Imports\n",
    "\n",
    "!pip install -q rsome\n",
    "!pip install -q gurobipy\n",
    "\n",
    "from rsome import ro\n",
    "from rsome import grb_solver as grb\n",
    "import rsome as rso\n",
    "import numpy as np\n",
    "import numpy.random as rd\n",
    "import matplotlib.pyplot as plt\n",
    "from math import floor\n",
    "import pprint"
   ]
  },
  {
   "cell_type": "markdown",
   "metadata": {
    "id": "UGFYrbZ6T45M"
   },
   "source": [
    "## Exercises"
   ]
  },
  {
   "cell_type": "markdown",
   "metadata": {
    "id": "IiO8U4xlT8T6"
   },
   "source": [
    "### Exercise 1/2: Modified Knapsack 0/1 Problem"
   ]
  },
  {
   "cell_type": "markdown",
   "metadata": {
    "id": "TUFwE8lbUxVk"
   },
   "source": [
    "In this exercise, we will solve the Knapsack problem (seen in the previous labs), slightly modified in order to have uncertainties about the volumes of the items.\n",
    "\n",
    "The uncertainty about the volumes is not the same for all the items. They are defined by  δ , defined as a fraction of the size of the volumes of the items.\n",
    "\n",
    "In this exercise, you are asked to implement the definition of the uncertainty set in order to have both an ellipsoidal uncertainty set and a finite uncertainty set.\n",
    "\n",
    "#### Task\n",
    "Implement different sizes for the ellipsoid and different interval for the finite set and compare the objective values and the probability of violating the constraints with the different setups."
   ]
  },
  {
   "cell_type": "code",
   "execution_count": 2,
   "metadata": {
    "cellView": "form",
    "id": "hayOT5DzR5cW"
   },
   "outputs": [],
   "source": [
    "# @title Helper Functions\n",
    "\n",
    "items = [\n",
    "    {'name': 'apple', 'value': 1, 'volume': 2},\n",
    "    {'name': 'pear', 'value': 2, 'volume': 2},\n",
    "    {'name': 'banana', 'value': 2, 'volume': 2},\n",
    "    {'name': 'watermelon', 'value': 5, 'volume': 10},\n",
    "    {'name': 'orange', 'value': 3, 'volume': 2},\n",
    "    {'name': 'avocado', 'value': 3, 'volume': 2},\n",
    "    {'name': 'blueberry', 'value': 3, 'volume': 1},\n",
    "    {'name': 'coconut', 'value': 4, 'volume': 3},\n",
    "    {'name': 'cherry', 'value': 2, 'volume': 1},\n",
    "    {'name': 'apricot', 'value': 1, 'volume': 1},\n",
    "]\n",
    "\n",
    "N = len(items)\n",
    "b = 10\n",
    "\n",
    "c = np.array([i['value'] for i in items]).flatten()  # profit coefficients\n",
    "w = np.array([i['volume'] for i in items]).flatten()  # weight coefficients\n",
    "\n",
    "delta = 0.2*w  # maximum deviations\n",
    "\n",
    "def robust(get_uncertainty_set, r):\n",
    "    \"\"\"\n",
    "    The function robust implements the robust optimiztion model,\n",
    "    given the budget of uncertainty r\n",
    "    \"\"\"\n",
    "\n",
    "    model = ro.Model('robust')\n",
    "    x = model.dvar(N, vtype='B')  # Boolean variable x (0: leave, 1: keep)\n",
    "    z = model.rvar(N)             # Random variable\n",
    "\n",
    "    # Uncertainty set\n",
    "    z_set = get_uncertainty_set(z, r)\n",
    "    model.max(c @ x)              # Maximize the value of the knapsack (i.e., the dot product between the values and x)\n",
    "\n",
    "    # Add constraint: the maximum (uncertain) volume is smaller than the budget\n",
    "    # in ellipsoidal uncertainty set, 'M' is 'delta' and 'u' is 'z'\n",
    "    # in finite uncertainty set, p1 = w + z1*delta => z1 = (p1 - w)/delta\n",
    "    model.st(((w + z*delta) @ x <= b).forall(z_set))\n",
    "    #consider the optimization with constraint \"Ax <= b\", here A = w + z*delta\n",
    "\n",
    "    # Solve\n",
    "    model.solve(grb, display=False)\n",
    "\n",
    "    return model.get(), x.get()    # Return the optimal objective and solution\n",
    "\n",
    "\n",
    "def sim(x_sol, zs):\n",
    "    \"\"\"\n",
    "    The function sim is for calculating the probability of violation\n",
    "    via simulations.\n",
    "        x_sol: solution of the Knapsack problem\n",
    "        zs: random sample of the random variable z\n",
    "    \"\"\"\n",
    "\n",
    "    ws = w + zs*delta   # random samples of uncertain weights\n",
    "\n",
    "    return (ws @ x_sol > b).mean()\n",
    "\n",
    "\n",
    "def ellipsoidal_uncertainty_set(z, r):\n",
    "    \"\"\"\n",
    "    Define an uncertainty set. See the following sources:\n",
    "    - Ellipsoidal: https://xiongpengnus.github.io/rsome/ro_rsome#section2.2\n",
    "    - Finite Uncertainty Set\n",
    "    \"\"\"\n",
    "    z_set = (rso.norm(z, 2) <= r)\n",
    "    return z_set\n",
    "\n",
    "def finite_uncertainty_set(z, r):\n",
    "    z_set = (\n",
    "        (z <= r[0], z >= r[0]) or\n",
    "        (z <= r[1], z >= r[1]) or\n",
    "        (z <= r[2], z >= r[2])\n",
    "    )\n",
    "    return z_set\n",
    "\n",
    "def finite_uncertainty_set_big(z, r):\n",
    "    z_set = (\n",
    "        (z <= r[0], z >= r[0]) or\n",
    "        (z <= r[1], z >= r[1]) or\n",
    "        (z <= r[2], z >= r[2]) or\n",
    "        (z <= r[3], z >= r[3]) or\n",
    "        (z <= r[4], z >= r[4]) or\n",
    "        (z <= r[5], z >= r[5])\n",
    "    )\n",
    "    return z_set\n",
    "\n",
    "def finite_uncertainty_set_hardcoded(z, r):\n",
    "    z_set = (\n",
    "        (z <= 0, z >= 0) or\n",
    "        (z <= 1, z >= 1) or\n",
    "        (z <= 2, z >= 2) or\n",
    "        (z <= 3, z >= 3) or\n",
    "        (z <= 4, z >= 4) or\n",
    "        (z <= 5, z >= 5)\n",
    "    )\n",
    "    return z_set"
   ]
  },
  {
   "cell_type": "code",
   "execution_count": 7,
   "metadata": {
    "colab": {
     "base_uri": "https://localhost:8080/"
    },
    "id": "jIRcUB3AUla4",
    "outputId": "b79581c9-57ee-415c-c0e3-031b0a187a79"
   },
   "outputs": [
    {
     "name": "stdout",
     "output_type": "stream",
     "text": [
      "Content of the knapsack:\n",
      "\torange\n",
      "\tavocado\n",
      "\tblueberry\n",
      "\tcoconut\n",
      "\tcherry\n",
      "Total value: 15.0. Probability of violation: 0.0207\n"
     ]
    }
   ],
   "source": [
    "num_samples = 20000\n",
    "zs = np.random.uniform(-1, 1, (num_samples, N))  # Generate random samples for z\n",
    "\n",
    "objective_value, solution = robust(ellipsoidal_uncertainty_set, 1)\n",
    "prob_violation = sim(solution, zs)\n",
    "\n",
    "print(f'Content of the knapsack:')\n",
    "for i, value in enumerate(solution):\n",
    "    if value:\n",
    "        print(f'\\t{items[i][\"name\"]}')\n",
    "print(f'Total value: {objective_value}. Probability of violation: {prob_violation}')"
   ]
  },
  {
   "cell_type": "code",
   "execution_count": null,
   "metadata": {
    "id": "OtaeyjJKVnk3"
   },
   "outputs": [],
   "source": [
    "# TODO"
   ]
  },
  {
   "cell_type": "markdown",
   "metadata": {
    "id": "dxmDzaODT2rr"
   },
   "source": [
    "### Exercise 2/2: Robust Portfolio Optimization"
   ]
  },
  {
   "cell_type": "markdown",
   "metadata": {
    "id": "AY3agwqwU50v"
   },
   "source": [
    "In this problem, we want to build a portfolio (e.g., of stocks), by using robust approaches.\n",
    "\n",
    "To be more specific, in this problem we have a set of fictionary stocks, each of which has different means and deviations for the returns.\n",
    "\n",
    "#### TASK\n",
    "Your job here is to implement a box uncertainty set to robustly optimize the portfolio. Try different values for the box in order to study how the uncertainty affects the objective value of and the number of different stocks chosen."
   ]
  },
  {
   "cell_type": "code",
   "execution_count": 4,
   "metadata": {
    "cellView": "form",
    "id": "wtIuHm2oU5Zy"
   },
   "outputs": [],
   "source": [
    "# @title Helper Functions\n",
    "\n",
    "n = 10\n",
    "stocks = {\n",
    "    f'Company {chr(65+i)}': {'Mean': np.around(np.random.uniform(0.9, 1.1), 2), 'Deviation': np.around(np.random.uniform(0.1, 0.3), 2)}\n",
    "    for i in range(n)\n",
    "}\n",
    "\n",
    "stocks = {\n",
    "    'Company A': {'Deviation': 0.17, 'Mean': 0.97},\n",
    "    'Company B': {'Deviation': 0.22, 'Mean': 0.92},\n",
    "    'Company C': {'Deviation': 0.28, 'Mean': 0.95},\n",
    "    'Company D': {'Deviation': 0.22, 'Mean': 1.04},\n",
    "    'Company E': {'Deviation': 0.23, 'Mean': 0.97},\n",
    "    'Company F': {'Deviation': 0.24, 'Mean': 1.08},\n",
    "    'Company G': {'Deviation': 0.27, 'Mean': 1.05},\n",
    "    'Company H': {'Deviation': 0.12, 'Mean': 1.01},\n",
    "    'Company I': {'Deviation': 0.24, 'Mean': 1.03},\n",
    "    'Company J': {'Deviation': 0.29, 'Mean': 0.95}\n",
    "}\n",
    "\n",
    "def portfolio_optimization(get_uncertainty_set, l, u):\n",
    "    p = np.array([stocks[s]['Mean'] for s in stocks])  # mean returns\n",
    "    delta = np.array([stocks[s]['Deviation'] for s in stocks])  # deviations of returns\n",
    "    Gamma = 5                               # budget of uncertainty\n",
    "\n",
    "    model = ro.Model()\n",
    "    x = model.dvar(n)                       # fractions of investment\n",
    "    z = model.rvar(n)                       # random variables\n",
    "\n",
    "    z_set = get_uncertainty_set(z, l, u)\n",
    "\n",
    "    model.maxmin(\n",
    "        (p + delta*z) @ x,                  # the max-min objective\n",
    "        z_set\n",
    "    )\n",
    "\n",
    "    model.st(sum(x) == 1)                   # summation of x is one\n",
    "    model.st(x >= 0)                        # x is non-negative\n",
    "\n",
    "    model.solve(grb)                        # solve the model by Gurobi\n",
    "    return model.get(), x.get()\n",
    "\n",
    "\n",
    "def get_uncertainty_set_po(z, l, u):\n",
    "    \"\"\"\n",
    "    Return a box uncertainty set\n",
    "    (see https://xiongpengnus.github.io/rsome/example_ro_inv).\n",
    "\n",
    "    Try different values for the size of the box.\n",
    "    \"\"\"\n",
    "    z_set = (\n",
    "        z <= u,\n",
    "        z >= l\n",
    "    )\n",
    "    return z_set\n",
    "\n",
    "def get_uncertainty_set_po_norm(z, l, u):\n",
    "    \"\"\"\n",
    "    Return a box uncertainty set\n",
    "    (see https://xiongpengnus.github.io/rsome/example_ro_inv).\n",
    "\n",
    "    Try different values for the size of the box.\n",
    "    \"\"\"\n",
    "    z_set = (\n",
    "        rso.norm(z, 1) <= u\n",
    "    )\n",
    "    return z_set"
   ]
  },
  {
   "cell_type": "code",
   "execution_count": 5,
   "metadata": {
    "colab": {
     "base_uri": "https://localhost:8080/",
     "height": 520
    },
    "id": "chNC1gOGVJxZ",
    "outputId": "eb44f575-fe4b-4cb2-b52c-97007329d41c"
   },
   "outputs": [
    {
     "name": "stdout",
     "output_type": "stream",
     "text": [
      "Being solved by Gurobi...\n",
      "Solution status: 2\n",
      "Running time: 0.0006s\n"
     ]
    },
    {
     "data": {
      "image/png": "[encoded data removed]",
      "text/plain": [
       "<Figure size 640x480 with 1 Axes>"
      ]
     },
     "metadata": {},
     "output_type": "display_data"
    },
    {
     "name": "stdout",
     "output_type": "stream",
     "text": [
      "Objective value: 3.8500\n"
     ]
    }
   ],
   "source": [
    "obj_val, x_sol = portfolio_optimization(get_uncertainty_set_po, 10, 20)\n",
    "\n",
    "plt.bar(\n",
    "    [s.split(' ')[1] for s in stocks],  # Stock names\n",
    "    x_sol,                              # Fraction of the portfolio\n",
    ")\n",
    "plt.xlabel('Stocks')\n",
    "plt.ylabel('Fraction of investment')\n",
    "plt.show()\n",
    "print('Objective value: {0:0.4f}'.format(obj_val))"
   ]
  },
  {
   "cell_type": "code",
   "execution_count": null,
   "metadata": {
    "id": "9GHrYA6pVbCA"
   },
   "outputs": [],
   "source": [
    "# TODO"
   ]
  }
 ],
 "metadata": {
  "colab": {
   "collapsed_sections": [
    "yYejvJknRjtE",
    "UGFYrbZ6T45M",
    "IiO8U4xlT8T6",
    "TUFwE8lbUxVk",
    "dxmDzaODT2rr",
    "AY3agwqwU50v"
   ],
   "provenance": []
  },
  "kernelspec": {
   "display_name": "Python 3 (ipykernel)",
   "language": "python",
   "name": "python3"
  },
  "language_info": {
   "codemirror_mode": {
    "name": "ipython",
    "version": 3
   },
   "file_extension": ".py",
   "mimetype": "text/x-python",
   "name": "python",
   "nbconvert_exporter": "python",
   "pygments_lexer": "ipython3",
   "version": "3.9.4"
  }
 },
 "nbformat": 4,
 "nbformat_minor": 1
}
