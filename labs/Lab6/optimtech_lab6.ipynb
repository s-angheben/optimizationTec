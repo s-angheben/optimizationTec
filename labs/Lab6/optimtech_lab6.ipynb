{
  "nbformat": 4,
  "nbformat_minor": 0,
  "metadata": {
    "colab": {
      "provenance": []
    },
    "kernelspec": {
      "name": "python3",
      "display_name": "Python 3"
    },
    "language_info": {
      "name": "python"
    }
  },
  "cells": [
    {
      "cell_type": "markdown",
      "source": [
        "# Lab. 6: Bayesian Optimization\n",
        "\n",
        "## Introduction\n",
        "\n",
        "#### <u>The goal of this lab is to study the behavior of Bayesian optimization on a regression problem.</u>\n",
        "\n",
        "Bayesian optimization is a probabilistic approach that uses the Bayes' Theorem $P(A|B) = \\frac{P(B|A)*P(A)}{P(B)}$. Briefly, we use the prior information, P(A),(random samples) to optimize a surrogate function, P(B|A).\n",
        "\n",
        "[Here](https://scikit-learn.org/1.2/modules/generated/sklearn.gaussian_process.GaussianProcessRegressor.html#sklearn.gaussian_process.GaussianProcessRegressor.predict) you can find the \"Gaussian Process Regressor\" class documentation.\n",
        "\n",
        "You'll have to implement some methods:\n",
        "\n",
        "- *Aquisition Functions*:\n",
        "  - `USB(args)` Upper Confidence Bound\n",
        "  $$ \\mu(x) + k \\sigma(x)  $$\n",
        "  - `LSB(args)` Lower Confidence Bound (for minimization only)\n",
        "  $$ \\mu(x) - k \\sigma(x)  $$\n",
        "  - `PI(args)` Probability of Improvement\n",
        "  $$ P(f(x) + k \\sigma(x))  $$\n",
        "  namely\n",
        "  $$ 1-\\Phi(z_0) = \\Phi(-z_0) = \\Phi(-\\frac{f(x^*) + k - \\mu(x)}{\\sigma(x)}) $$\n",
        "  where $\\Phi$ is the normal cumulative distribution function (hint: use [scipy.stats.norm](https://docs.scipy.org/doc/scipy/reference/generated/scipy.stats.norm.html#scipy-stats-norm)).\n",
        "  - `EI(args)` Expected Improvement\n",
        "  $$ EI(x) = E[f(x) - f(x_t^+)] $$\n",
        "  namely\n",
        "  $$ EI(x) = (\\mu(x) - f(x^*) - k)\\Phi(\\frac{\\mu(x) - f(x^*) - k}{\\sigma(x)}) + \\sigma(x)\\varphi(\\frac{f(x^*) + k - \\mu(x)}{\\sigma(x)}) $$\n",
        "  where $\\Phi$ is the normal cumulative distribution function and $\\varphi$ is the probability density function (hint: use [scipy.stats.norm](https://docs.scipy.org/doc/scipy/reference/generated/scipy.stats.norm.html#scipy-stats-norm))\n",
        "\n",
        "- *Prior Functions*:\n",
        "  - `Prior_1(objective_fun, size)` Where `X` is a random array of size `size` and `Y` is the array of `f(x)`.\n",
        "  - `Prior_2(objective_fun, size)` Where `X` is an array of size `size` of numbers sampled from a uniform distribution `[0.5, 1]` and `Y` is the array of `f(x)`.\n",
        "  - `Prior_3(objective_fun, size)` Where `X` is an array of size `size` of numbers sampled from a uniform distribution `[0, 0.5]` and `Y` is the array of `f(x)`.\n",
        "- *Optimization Functions*. Here you can find some examples, feel free to use different functions:\n",
        "  - `multimodal_1(x)`\n",
        "  $$ \\sin(x) + \\sin(\\frac{10}{3}x) $$\n",
        "  - `multimodal_2(x)`\n",
        "  $$ (1.4-3.0x) \\sin(18x) $$\n",
        "  - `multimodal_3(x)`\n",
        "  $$ x^2 + \\sin(5 \\pi x)^6 $$\n",
        "---"
      ],
      "metadata": {
        "id": "Mc8f-B1BQ4Qq"
      }
    },
    {
      "cell_type": "code",
      "execution_count": null,
      "metadata": {
        "id": "Qrn_6luEUihr"
      },
      "outputs": [],
      "source": [
        "%%capture\n",
        "!pip install scikit-optimize"
      ]
    },
    {
      "cell_type": "code",
      "source": [
        "# example of bayesian optimization for a 1d function from scratch\n",
        "from numpy import arange\n",
        "from numpy import vstack\n",
        "from numpy import argmax\n",
        "from numpy import asarray\n",
        "from numpy.random import normal\n",
        "from numpy.random import uniform\n",
        "from numpy.random import random\n",
        "from numpy import sin\n",
        "from numpy import pi\n",
        "from scipy.stats import norm\n",
        "from sklearn.gaussian_process import GaussianProcessRegressor\n",
        "from sklearn.gaussian_process.kernels import DotProduct, RBF, ExpSineSquared\n",
        "from warnings import catch_warnings\n",
        "from warnings import simplefilter\n",
        "from matplotlib import pyplot\n",
        "\n",
        "from numpy import mean\n",
        "from sklearn.datasets import make_blobs\n",
        "from sklearn.model_selection import cross_val_score\n",
        "from sklearn.neighbors import KNeighborsClassifier\n",
        "from skopt.space import Integer\n",
        "from skopt.utils import use_named_args\n",
        "from warnings import catch_warnings\n",
        "from skopt import gp_minimize\n",
        "from warnings import simplefilter"
      ],
      "metadata": {
        "id": "mo4CeiMJX7wR"
      },
      "execution_count": null,
      "outputs": []
    },
    {
      "cell_type": "code",
      "source": [
        "def UCB(args):\n",
        "  \"\"\"\n",
        "  Upper Confidence Bound implementation\n",
        "  - args: dictionary containing arguments needed for the implementation:\n",
        "    - \"mu\"\n",
        "    - \"std\"\n",
        "    - \"best\"\n",
        "    - \"k\"\n",
        "\n",
        "  Returns:\n",
        "  - array u(X), result of acquisition function for each sample\n",
        "  \"\"\"\n",
        "  #TODO\n",
        "  pass\n",
        "\n",
        "def LCB(args):\n",
        "  \"\"\"\n",
        "  Lower Confidence Bound implementation\n",
        "  - args: dictionary containing arguments needed for the implementation:\n",
        "    - \"mu\"\n",
        "    - \"std\"\n",
        "    - \"best\"\n",
        "    - \"k\"\n",
        "\n",
        "  Returns:\n",
        "  - array u(X), result of acquisition function for each sample\n",
        "  \"\"\"\n",
        "  #TODO\n",
        "  pass\n",
        "\n",
        "def PI(args):\n",
        "  \"\"\"\n",
        "  Probability of implementation\n",
        "  - args: dictionary containing arguments needed for the implementation:\n",
        "    - \"mu\"\n",
        "    - \"std\"\n",
        "    - \"best\"\n",
        "    - \"k\"\n",
        "\n",
        "  Returns:\n",
        "  - array u(X), result of acquisition function for each sample\n",
        "  \"\"\"\n",
        "  #TODO\n",
        "  pass\n",
        "\n",
        "def EI(args):\n",
        "  \"\"\"\n",
        "  Expected improvement implementation\n",
        "  - args: dictionary containing arguments needed for the implementation:\n",
        "    - \"mu\"\n",
        "    - \"std\"\n",
        "    - \"best\"\n",
        "    - \"k\"\n",
        "\n",
        "  Returns:\n",
        "  - array u(X), result of acquisition function for each sample\n",
        "  \"\"\"\n",
        "  #TODO\n",
        "  pass"
      ],
      "metadata": {
        "id": "XChZ039pNinR"
      },
      "execution_count": null,
      "outputs": []
    },
    {
      "cell_type": "code",
      "source": [
        "def prior_1(objective_fun, size):\n",
        "  \"\"\"\n",
        "  Prior implementation, returns a tuple (X, Y), where `X` is a random array of size `size` and `Y` is the array of `f(x)`.\n",
        "  - objective_fun: function that implements the objective function in use. Type(objective_fun) = <class 'function'>\n",
        "  - size: an Integer that specifies the size of X and Y arrays\n",
        "\n",
        "  Returns:\n",
        "  - X, Y\n",
        "  \"\"\"\n",
        "  #TODO\n",
        "  pass\n",
        "\n",
        "def prior_2(objective_fun, size):\n",
        "  \"\"\"\n",
        "  Prior implementation, returns a tuple (X, Y), where `X` is an array of size `size` of numbers sampled from a uniform distribution `[0.5, 1]` and `Y` is the array of `f(x)`.\n",
        "  - objective_fun: function that implements the objective function in use. Type(objective_fun) = <class 'function'>\n",
        "  - size: an Integer that specifies the size of X and Y arrays\n",
        "\n",
        "  Returns:\n",
        "  - X, Y\n",
        "  \"\"\"\n",
        "  #TODO\n",
        "  pass\n",
        "\n",
        "def prior_3(objective_fun, size):\n",
        "  \"\"\"\n",
        "  Prior implementation, returns a tuple (X, Y), where `X` is an array of size `size` of numbers sampled from a uniform distribution `[0, 0.5]` and `Y` is the array of `f(x)`.\n",
        "  - objective_fun: function that implements the objective function in use. Type(objective_fun) = <class 'function'>\n",
        "  - size: an Integer that specifies the size of X and Y arrays\n",
        "\n",
        "  Returns:\n",
        "  - X, Y\n",
        "  \"\"\"\n",
        "  #TODO\n",
        "  pass"
      ],
      "metadata": {
        "id": "Bq78Ws8tOBF3"
      },
      "execution_count": null,
      "outputs": []
    },
    {
      "cell_type": "code",
      "source": [
        "# objective function\n",
        "def multimodal_1(x):\n",
        "  \"\"\"\n",
        "  Implementation of a multimodal function\n",
        "  - x: value to be evaluated\n",
        "\n",
        "  Returns:\n",
        "  - y: evaluation of x\n",
        "  \"\"\"\n",
        "  #TODO\n",
        "  pass\n",
        "\n",
        "def multimodal_2(x):\n",
        "  \"\"\"\n",
        "  Implementation of a multimodal function\n",
        "  - x: value to be evaluated\n",
        "\n",
        "  Returns:\n",
        "  - y: evaluation of x\n",
        "  \"\"\"\n",
        "  #TODO\n",
        "  pass\n",
        "\n",
        "def multimodal_3(x):\n",
        "  \"\"\"\n",
        "  Implementation of a multimodal function\n",
        "  - x: value to be evaluated\n",
        "\n",
        "  Returns:\n",
        "  - y: evaluation of x\n",
        "  \"\"\"\n",
        "  #TODO\n",
        "  pass"
      ],
      "metadata": {
        "id": "dJgmWmP9OH3Z"
      },
      "execution_count": null,
      "outputs": []
    },
    {
      "cell_type": "code",
      "source": [
        "def acquisition_function(function, mu, std, best, k):\n",
        "  args = {\"mu\": mu, \"std\": std, \"best\": best, \"k\": k}\n",
        "  result = function(args)\n",
        "  return result\n",
        "\n",
        "def initial_point(objective_fun, prior, size = 100):\n",
        "  return prior(objective_fun, size)\n",
        "\n",
        "def objective(x, objective_fun, noise=0.1):\n",
        "\treturn objective_fun(x) + normal(loc=0, scale=noise)"
      ],
      "metadata": {
        "id": "TsCR8gx8bCW5"
      },
      "execution_count": null,
      "outputs": []
    },
    {
      "cell_type": "code",
      "source": [
        "\n",
        "\n",
        "# surrogate or approximation for the objective function\n",
        "def surrogate(model, X):\n",
        "\t# catch any warning generated when making a prediction\n",
        "\twith catch_warnings():\n",
        "\t\t# ignore generated warnings\n",
        "\t\tsimplefilter(\"ignore\")\n",
        "\t\treturn model.predict(X, return_std=True)\n",
        "\n",
        "def acquisition(X, Xsamples, model, function, k):\n",
        "\t# calculate the best surrogate score found so far\n",
        "\tyhat, _ = surrogate(model, X) # here it returns an array of predicted value as the model has been fitted on X\n",
        "\tbest = max(yhat)\n",
        "\t# calculate mean and stdev via surrogate function\n",
        "\tmu, std = surrogate(model, Xsamples) # here it returns the vectors of means and std associated to a gaussian whose more probable value is f(Xsample) because the model hasn't been fitted on Xsamples\n",
        "\t#extract all element from the first column of the 2-dim array mu (only for scikit-learn 1.0.2)\n",
        "\t#mu = mu[:, 0]\n",
        "\t# calculate the probability of improvement\n",
        "\tprobs = acquisition_function(function, mu, std, best, k)\n",
        "\treturn probs\n",
        "\n",
        "# optimize the acquisition function\n",
        "def opt_acquisition(X, y, model, size, function, k):\n",
        "\t# random search, generate random samples\n",
        "\tXsamples = random(size)\n",
        "\tXsamples = Xsamples.reshape(len(Xsamples), 1)\n",
        "\t# calculate the acquisition function for each sample\n",
        "\tscores = acquisition(X, Xsamples, model, function, k)\n",
        "\t# locate the index of the largest scores\n",
        "\tix = argmax(scores)\n",
        "\treturn Xsamples[ix, 0]\n",
        "\n",
        "# plot real observations vs surrogate function\n",
        "def plot(X, y, model, size):\n",
        "\t# scatter plot of inputs and real objective function\n",
        "\tpyplot.scatter(X[:size], y[:size], marker='^')\n",
        "\tpyplot.scatter(X[size:], y[size:])\n",
        "\t# line plot of surrogate function across domain5\n",
        "\tXsamples = asarray(arange(0, 1, 0.001))\n",
        "\tXsamples = Xsamples.reshape(len(Xsamples), 1)\n",
        "\tysamples, _ = surrogate(model, Xsamples)\n",
        "\tpyplot.plot(Xsamples, ysamples)\n",
        "\t# show the plot\n",
        "\tpyplot.show()\n",
        "\n",
        "\n",
        "def bayesianOptmization(generation, size, function, objective_fun, prior, kernel = None, k = 0):\n",
        "\t\t# sample the domain sparsely with noise\n",
        "\t\tX , y  = initial_point(objective_fun, prior, size = size)\n",
        "\t\t# reshape into rows and cols\n",
        "\t\tX = X.reshape(len(X), 1)\n",
        "\t\ty = y.reshape(len(y), 1)\n",
        "\t\t# define the model\n",
        "\t\tmodel = GaussianProcessRegressor(kernel) #you can set the kernel and the optimizer\n",
        "\t\t# fit the model\n",
        "\t\tmodel.fit(X, y)\n",
        "\t\t# perform the optimization process\n",
        "\t\tfor i in range(generation):\n",
        "\t\t\t\t# select the next point to sample\n",
        "\t\t\t\tx = opt_acquisition(X, y, model, size, function, k)\n",
        "\t\t\t\t# sample the point\n",
        "\t\t\t\tactual = objective(x, objective_fun)\n",
        "\t\t\t\t# summarize the finding\n",
        "\t\t\t\test, _ = surrogate(model, [[x]])\n",
        "\t\t\t\t# add the data to the dataset\n",
        "\t\t\t\tX = vstack((X, [[x]]))\n",
        "\t\t\t\ty = vstack((y, [[actual]]))\n",
        "\t\t\t\t# update the model\n",
        "\t\t\t\tmodel.fit(X, y)\n",
        "\t\treturn X, y, model"
      ],
      "metadata": {
        "id": "pTXP0BF9YFem"
      },
      "execution_count": null,
      "outputs": []
    },
    {
      "cell_type": "markdown",
      "source": [
        "## Exercises"
      ],
      "metadata": {
        "id": "0t4GkKMEMcrH"
      }
    },
    {
      "cell_type": "markdown",
      "source": [
        "### Regression\n",
        "---\n",
        "#### Questions:\n",
        "- How does the prior knowledge change the optimization?\n",
        "- How does the kernel change the optimization? (see here the [kernels](https://scikit-learn.org/stable/modules/gaussian_process.html#kernels-for-gaussian-processes))\n",
        "- How does the acquisition function affect the optimization?"
      ],
      "metadata": {
        "id": "oBPrQlhdMaER"
      }
    },
    {
      "cell_type": "code",
      "source": [
        "size = 100\n",
        "X, y, model = bayesianOptmization(10, size, PI, multimodal_2, prior_1) #TODO try with other priors, acquisition functions and objective func\n",
        "plot(X, y, model, size)\n",
        "# best result\n",
        "ix = argmax(y)\n",
        "print('Best Result: x=%.3f, y=%.3f' % (X[ix][0], y[ix][0]))"
      ],
      "metadata": {
        "id": "wFdaATleMj3d",
        "colab": {
          "base_uri": "https://localhost:8080/",
          "height": 448
        },
        "outputId": "4ff31a96-07db-4f8b-a68e-0e7de49bda36"
      },
      "execution_count": null,
      "outputs": [
        {
          "output_type": "display_data",
          "data": {
            "text/plain": [
              "<Figure size 640x480 with 1 Axes>"
            ],
            "image/png": "[encoded data removed]"
          },
          "metadata": {}
        },
        {
          "output_type": "stream",
          "name": "stdout",
          "text": [
            "Best Result: x=0.968, y=1.626\n"
          ]
        }
      ]
    },
    {
      "cell_type": "markdown",
      "source": [
        "### BONUS\n",
        "\n",
        "You can now change the acquisition functions in the regression problem, adding a slack variable `k` as a hyperparameter. How does this variable affect the optimization problem?"
      ],
      "metadata": {
        "id": "OH4P87xNNUCS"
      }
    },
    {
      "cell_type": "code",
      "source": [],
      "metadata": {
        "id": "cFDNlDGKNWJL"
      },
      "execution_count": null,
      "outputs": []
    }
  ]
}