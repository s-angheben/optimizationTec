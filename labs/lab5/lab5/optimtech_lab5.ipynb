{
  "nbformat": 4,
  "nbformat_minor": 0,
  "metadata": {
    "colab": {
      "provenance": []
    },
    "kernelspec": {
      "name": "python3",
      "display_name": "Python 3"
    },
    "language_info": {
      "name": "python"
    }
  },
  "cells": [
    {
      "cell_type": "markdown",
      "source": [
        "# Lab. 5: Iterated local Search and Simulated Annealing\n",
        "\n",
        "## Introduction\n",
        "\n",
        "#### <u>The goal of this lab is to compare the behavior of Iterated Local search (ILS) and Simulated Annealing on the knapsack 0/1 problem</u>\n",
        "\n",
        "You'll have to implement five methods:\n",
        "\n",
        "- *Iterated Local Search*:\n",
        "  - perturbation(x, k). Try different implementation of the perturbation methods. (similar to the shake method in the previous lab)\n",
        "  - local_search(f, x). Try different local search strategies (FirstImprovement or BestImprovement)\n",
        "- *Simulated Annealing*:\n",
        "  - random_neighbor(x, i). Select a random neighbor for the solution x by doing only a few changes\n",
        "  - acceptance(x, eval_x, xp, eval_xp, T). Return the accepted solution (x or xp) and corresponding fitness.\n",
        "  - update_temperature(T, alpha). Proceed with the update of the temperature parameter.\n",
        "---\n",
        "\n",
        "Getting started: The following cells contain the implementation of the methods that we will use throughout this lab, together with utilities.\n",
        "\n",
        "#### **The Knapsack 0/1 problem** is a combinatorial problem that works as follows.\n",
        "\n",
        "We have a bag with limited capacity L, and we have a set of items  $I=\\{i_1,...,i_N\\}$  Each  $i_j$  has a given volume $w_{ij}$ and a value $v_{ij}$. The goal of the optimization problem is to fill the bag with a combination of items $S$ such that the combination maximizes the total value contained by the bag while complaining with the constraint on the capacity.\n",
        "\n",
        "In this version of the knapsack problem we can either discard or carry (at most 1) item. Thus, the search space is $\\{0,1\\}^{|I|}$ .\n",
        "\n",
        "Since this is a maximization problem, we can turn it into a minimization problem by returning the opposite of the value. If a solution is not feasible (i.e., exceeds the maximum volume) the function will return a score of 0 (like an empty bag).\n",
        "\n",
        "\n",
        "Assume\n",
        "$$ N = \\text{number of items} $$\n",
        "$$ X = \\{x_1, x_2, \\dots, x_N\\} = \\text{set of items} $$\n",
        "$$ v_i = \\text{value of item } x_i $$\n",
        "$$ w_i = \\text{weight of item } x_i $$\n",
        "$$ W = \\text{maximum weight the knapsack can hold} $$\n",
        "\n",
        "\n",
        "Then the 0/1 knapsack problem can be formulated as follows:\n",
        "\n",
        "\\begin{equation*}\n",
        "  \\begin{array}{lr@{}c@{}r@{}l}\n",
        "    \\text{maximize }   &S = \\sum_{x_i \\in X} v_i x_i \\\\\n",
        "    \\text{subject to } & \\sum_{x_i \\in X} w_i x_i \\leq W \\\\\n",
        "                       & x_i \\in \\{0, 1\\} \\forall x_i \\in X \\\\\n",
        "  \\end{array}\n",
        "\\end{equation*}\n",
        "\n",
        "\\\\"
      ],
      "metadata": {
        "id": "-SlA--0rkVDt"
      }
    },
    {
      "cell_type": "code",
      "source": [
        "import numpy as np\n",
        "from matplotlib import pyplot as plt"
      ],
      "metadata": {
        "id": "rO9LwdEvl3o9"
      },
      "execution_count": null,
      "outputs": []
    },
    {
      "cell_type": "code",
      "execution_count": null,
      "metadata": {
        "id": "LWuMpb-lj5ct"
      },
      "outputs": [],
      "source": [
        "class Knapsack_0_1:\n",
        "\n",
        "    def __init__(self):\n",
        "        self._items = [\n",
        "            {'name': 'apple', 'value': 1, 'volume': 2},\n",
        "            {'name': 'pear', 'value': 2, 'volume': 2},\n",
        "            {'name': 'banana', 'value': 2, 'volume': 2},\n",
        "            {'name': 'watermelon', 'value': 5, 'volume': 10},\n",
        "            {'name': 'orange', 'value': 3, 'volume': 2},\n",
        "            {'name': 'avocado', 'value': 3, 'volume': 2},\n",
        "            {'name': 'blueberry', 'value': 3, 'volume': 1},\n",
        "            {'name': 'coconut', 'value': 4, 'volume': 3},\n",
        "            {'name': 'cherry', 'value': 2, 'volume': 1},\n",
        "            {'name': 'apricot', 'value': 1, 'volume': 1},\n",
        "        ]\n",
        "        self._BAG_CAPACITY = 10\n",
        "        self.history = []\n",
        "        self.values = []\n",
        "\n",
        "    def _get_value(self, solution):\n",
        "        cur_cap = self._BAG_CAPACITY\n",
        "        cur_val = 0\n",
        "        for i, v in enumerate(solution):\n",
        "            if v == 1:\n",
        "                cur_val += self._items[i]['value']\n",
        "                cur_cap -= self._items[i]['volume']\n",
        "            if cur_cap < 0:\n",
        "                return 0\n",
        "        return -cur_val\n",
        "\n",
        "    def __call__(self, solution):\n",
        "        value = self._get_value(solution)\n",
        "        self.history.append(solution)\n",
        "        self.values.append(value)\n",
        "        return value\n",
        "\n",
        "    def trend(self):\n",
        "        plt.figure()\n",
        "        plt.plot(self.values)\n",
        "        plt.show()"
      ]
    },
    {
      "cell_type": "markdown",
      "source": [
        "## Exercises"
      ],
      "metadata": {
        "id": "SNVIderwWlmT"
      }
    },
    {
      "cell_type": "markdown",
      "source": [
        "### Iterated Local Search\n",
        "**Finish the implementation of the algorithm first**, then answer the question later on."
      ],
      "metadata": {
        "id": "jYZizLPCVnle"
      }
    },
    {
      "cell_type": "code",
      "source": [
        "def iteratedLocalSearch(f, x0, ls_max):\n",
        "    \"\"\"\n",
        "    Seeks for the minimum of the function by means of the Iterated local search algorithm.\n",
        "\n",
        "    - f: the function to optimize\n",
        "    - x0: the initial point\n",
        "    - ls_max: the max number of local search\n",
        "    \"\"\"\n",
        "\n",
        "    def perturbation(x, k):\n",
        "        \"\"\"\n",
        "        Implements the perturbation step for the ILS algorithm.\n",
        "\n",
        "        - x: starting point\n",
        "        - k: number of changes to be made\n",
        "\n",
        "        Returns:\n",
        "        - x': the random sampled from the neighborhood\n",
        "        \"\"\"\n",
        "        # To be implemented\n",
        "\n",
        "      assert False, \"Perturbation step has to be implemented\"\n",
        "      return xp\n",
        "\n",
        "    def acceptance_criterion(f, x, xs, k):\n",
        "        if f(xs) < f(x):\n",
        "            x = xs\n",
        "            k = 1\n",
        "        else:\n",
        "            k += 1\n",
        "        return x, k\n",
        "\n",
        "    def local_search(f, x):\n",
        "        \"\"\"\n",
        "        Implements the local search step (e.g.: BestImprovement) for the ILS algorithm.\n",
        "\n",
        "        - f: function to optimize\n",
        "        - x: starting point\n",
        "\n",
        "        Returns:\n",
        "        - x': local optimum\n",
        "        \"\"\"\n",
        "        # To be implemented\n",
        "        assert False, \"Local Search step has to be implemented\"\n",
        "        return xs\n",
        "\n",
        "    n = 0\n",
        "    x = np.array(x0, int)\n",
        "    best = x\n",
        "    bestval = f(x)\n",
        "\n",
        "    i = 0\n",
        "    while i < ls_max:\n",
        "        xp = perturbation(x, i)\n",
        "        xs = local_search(f, xp)\n",
        "        x, i = acceptance_criterion(f, x, xs, i)\n",
        "\n",
        "        # Store the best\n",
        "        curval = f(x)\n",
        "        if curval < bestval:\n",
        "            bestval = curval\n",
        "            best = x\n",
        "    return best"
      ],
      "metadata": {
        "id": "Hj8TGEwPl5Za"
      },
      "execution_count": null,
      "outputs": []
    },
    {
      "cell_type": "markdown",
      "source": [
        "#### Questions:\n",
        "- how does the starting point influence the search process?\n",
        "- how does the ls_max parameter affect the quality of the result?\n",
        "- how does the perturbation of the solutions affect:\n",
        "    - quality of the search?\n",
        "    - velocity of the search?\n"
      ],
      "metadata": {
        "id": "xPiN-sb3V8BB"
      }
    },
    {
      "cell_type": "code",
      "source": [
        "func = Knapsack_0_1()\n",
        "iteratedLocalSearch(func, [0] * len(func._items), 10)\n",
        "func.trend()"
      ],
      "metadata": {
        "id": "_ah0CpANWe7q"
      },
      "execution_count": null,
      "outputs": []
    },
    {
      "cell_type": "markdown",
      "source": [
        "### Simulated Annealing\n",
        "**Finish the implementation of the algorithm first**, then answer the question later on."
      ],
      "metadata": {
        "id": "0a1bbTnYWDwp"
      }
    },
    {
      "cell_type": "code",
      "source": [
        "def simulatedAnnealing(f, x0, iter, T, k, alpha):\n",
        "    \"\"\"\n",
        "    Seeks for the minimum of the function by means of the Simulated Annealing algorithm.\n",
        "\n",
        "    - f: the function to optimize\n",
        "    - x0: the initial point\n",
        "    - iter: number of temperature update\n",
        "    - T: Initial high temperature\n",
        "    - k: Number of iterations at fixed temperature\n",
        "    - alpha: cooling scheduling parameter\n",
        "    \"\"\"\n",
        "\n",
        "    def random_neighbor(x, i):\n",
        "        \"\"\"\n",
        "        Generates a random neighbor for the solution x.\n",
        "\n",
        "        - x: starting point\n",
        "        - i: number of changes to be made\n",
        "\n",
        "        Returns:\n",
        "        - x': the random sampled from the neighborhood\n",
        "        \"\"\"\n",
        "        # To be implemented\n",
        "        assert False, \"Random Neighbor generator has to be implemented\"\n",
        "        return xp\n",
        "\n",
        "    def acceptance(x, eval_x, xp, eval_xp, T):\n",
        "        \"\"\"\n",
        "        Returns the solution and fitness accepted between x and xp.\n",
        "\n",
        "        - x: current solution\n",
        "        - eval_x: eval of solution x\n",
        "        - xp: new solution\n",
        "        - eval_xp: eval of solution xp\n",
        "        - T: temperature\n",
        "\n",
        "        Returns:\n",
        "        - x: new current solution\n",
        "        - eval_x: eval of new solution x\n",
        "        \"\"\"\n",
        "        # To be implemented\n",
        "        assert False, \"Acceptance function has to be implemented\"\n",
        "        return x, eval_x\n",
        "\n",
        "    def update_temperature(T, alpha):\n",
        "        \"\"\"\n",
        "        Updates the temperature T.\n",
        "\n",
        "        - T: temperature\n",
        "        - alpha: cooling scheduling parameter\n",
        "\n",
        "        Returns:\n",
        "        - T: updated temperature\n",
        "        \"\"\"\n",
        "        # To be implemented\n",
        "        assert False, \"Temperature update function has to be implemented\"\n",
        "        return T\n",
        "\n",
        "    x = np.array(x0)\n",
        "    for i in range(iter):\n",
        "        for fix_temp in range(k):\n",
        "            eval_x = f(x)\n",
        "            xp = random_neighbor(x, fix_temp)\n",
        "            eval_xp = f(xp)\n",
        "            x, eval_x = acceptance(x, eval_x, xp, eval_xp, T)\n",
        "        T = update_temperature(T, alpha)\n",
        "\n",
        "    return x, eval_x"
      ],
      "metadata": {
        "id": "wibgqXfkQDUC"
      },
      "execution_count": null,
      "outputs": []
    },
    {
      "cell_type": "markdown",
      "source": [
        "#### Questions:\n",
        "- how does the starting point influence the search process?\n",
        "- how does the initial temperature affect the quality of the result?\n",
        "- how does the selection of the neighborhood affect:\n",
        "    - quality of the search?\n",
        "    - velocity of the search?\n",
        "- How does the acceptance policy influence the search?\n",
        "- How does the update of the temparture affect the search?\n"
      ],
      "metadata": {
        "id": "b53DGm6DWL_-"
      }
    },
    {
      "cell_type": "code",
      "source": [
        "func = Knapsack_0_1()\n",
        "x, eval_x = simulatedAnnealing(func, [0] * len(func._items), 1, 1, 0.1)\n",
        "func.trend()"
      ],
      "metadata": {
        "id": "8p53ADH6WPR4"
      },
      "execution_count": null,
      "outputs": []
    },
    {
      "cell_type": "markdown",
      "source": [
        "### Final questions:\n",
        "Iterated local search, variable neighbor search, and simulated annealing are very similar optimization algorithms.\n",
        "Considering what was seen in this lab and the previous one, answer these questions:\n",
        " - Is there a \"more efficient\" algorithm?\n",
        " - How do the different parameters affect the search, and do they affect the choice of one algorithm to respect the others?"
      ],
      "metadata": {
        "id": "lO9NYm_lWQ9-"
      }
    }
  ]
}